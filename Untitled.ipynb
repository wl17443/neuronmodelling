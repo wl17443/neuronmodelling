{
 "cells": [
  {
   "cell_type": "code",
   "execution_count": 33,
   "metadata": {},
   "outputs": [
    {
     "name": "stderr",
     "output_type": "stream",
     "text": [
      "┌ Info: Precompiling Distributions [31c24e10-a181-5473-b8eb-7969acd0382f]\n",
      "└ @ Base loading.jl:1278\n"
     ]
    }
   ],
   "source": [
    "using DataFrames\n",
    "using Distributions"
   ]
  },
  {
   "cell_type": "code",
   "execution_count": 44,
   "metadata": {},
   "outputs": [
    {
     "data": {
      "text/plain": [
       "Normal{Float64}(μ=0.0, σ=0.001)"
      ]
     },
     "execution_count": 44,
     "metadata": {},
     "output_type": "execute_result"
    }
   ],
   "source": [
    "N = 10\n",
    "Vᵣ = -0.8\n",
    "Eₗ = -0.7\n",
    "Vₜ = -0.4\n",
    "τ = 0.002\n",
    "dt = 0.001\n",
    "z = Normal(0, 1e-3)"
   ]
  },
  {
   "cell_type": "code",
   "execution_count": 81,
   "metadata": {},
   "outputs": [
    {
     "data": {
      "text/plain": [
       "v_update (generic function with 1 method)"
      ]
     },
     "execution_count": 81,
     "metadata": {},
     "output_type": "execute_result"
    }
   ],
   "source": [
    "function v_update(v)\n",
    "    v += -(v .- Eₗ) ./ τ .* dt .+ rand(z, length(v))\n",
    "    return v\n",
    "end"
   ]
  },
  {
   "cell_type": "code",
   "execution_count": 99,
   "metadata": {},
   "outputs": [
    {
     "data": {
      "text/plain": [
       "10-element Array{Float64,1}:\n",
       " -0.748956957715867\n",
       " -0.7493678416644294\n",
       " -0.7500753055549744\n",
       " -0.7483492524191123\n",
       " -0.7513220608109357\n",
       " -0.751830991322085\n",
       " -0.750097881038742\n",
       " -0.7502754513527389\n",
       " -0.7496461438930183\n",
       " -0.7500673960709355"
      ]
     },
     "execution_count": 99,
     "metadata": {},
     "output_type": "execute_result"
    }
   ],
   "source": [
    "df = DataFrame(t1 = zeros(N)) .+ Vᵣ .+ rand(z, N)\n",
    "df.t2 = v_update(df.t1)"
   ]
  },
  {
   "cell_type": "code",
   "execution_count": 101,
   "metadata": {},
   "outputs": [
    {
     "data": {
      "text/html": [
       "<table class=\"data-frame\"><thead><tr><th></th><th>t1</th><th>t2</th><th>t3</th></tr><tr><th></th><th>Float64</th><th>Float64</th><th>Float64</th></tr></thead><tbody><p>10 rows × 3 columns</p><tr><th>1</th><td>-0.797434</td><td>-0.748957</td><td>-0.724781</td></tr><tr><th>2</th><td>-0.799045</td><td>-0.749368</td><td>-0.724299</td></tr><tr><th>3</th><td>-0.799658</td><td>-0.750075</td><td>-0.726352</td></tr><tr><th>4</th><td>-0.799629</td><td>-0.748349</td><td>-0.725033</td></tr><tr><th>5</th><td>-0.800484</td><td>-0.751322</td><td>-0.726286</td></tr><tr><th>6</th><td>-0.801059</td><td>-0.751831</td><td>-0.726031</td></tr><tr><th>7</th><td>-0.800315</td><td>-0.750098</td><td>-0.725223</td></tr><tr><th>8</th><td>-0.800991</td><td>-0.750275</td><td>-0.725823</td></tr><tr><th>9</th><td>-0.799452</td><td>-0.749646</td><td>-0.723579</td></tr><tr><th>10</th><td>-0.79976</td><td>-0.750067</td><td>-0.726143</td></tr></tbody></table>"
      ],
      "text/latex": [
       "\\begin{tabular}{r|ccc}\n",
       "\t& t1 & t2 & t3\\\\\n",
       "\t\\hline\n",
       "\t& Float64 & Float64 & Float64\\\\\n",
       "\t\\hline\n",
       "\t1 & -0.797434 & -0.748957 & -0.724781 \\\\\n",
       "\t2 & -0.799045 & -0.749368 & -0.724299 \\\\\n",
       "\t3 & -0.799658 & -0.750075 & -0.726352 \\\\\n",
       "\t4 & -0.799629 & -0.748349 & -0.725033 \\\\\n",
       "\t5 & -0.800484 & -0.751322 & -0.726286 \\\\\n",
       "\t6 & -0.801059 & -0.751831 & -0.726031 \\\\\n",
       "\t7 & -0.800315 & -0.750098 & -0.725223 \\\\\n",
       "\t8 & -0.800991 & -0.750275 & -0.725823 \\\\\n",
       "\t9 & -0.799452 & -0.749646 & -0.723579 \\\\\n",
       "\t10 & -0.79976 & -0.750067 & -0.726143 \\\\\n",
       "\\end{tabular}\n"
      ],
      "text/plain": [
       "10×3 DataFrame\n",
       "│ Row │ t1        │ t2        │ t3        │\n",
       "│     │ \u001b[90mFloat64\u001b[39m   │ \u001b[90mFloat64\u001b[39m   │ \u001b[90mFloat64\u001b[39m   │\n",
       "├─────┼───────────┼───────────┼───────────┤\n",
       "│ 1   │ -0.797434 │ -0.748957 │ -0.724781 │\n",
       "│ 2   │ -0.799045 │ -0.749368 │ -0.724299 │\n",
       "│ 3   │ -0.799658 │ -0.750075 │ -0.726352 │\n",
       "│ 4   │ -0.799629 │ -0.748349 │ -0.725033 │\n",
       "│ 5   │ -0.800484 │ -0.751322 │ -0.726286 │\n",
       "│ 6   │ -0.801059 │ -0.751831 │ -0.726031 │\n",
       "│ 7   │ -0.800315 │ -0.750098 │ -0.725223 │\n",
       "│ 8   │ -0.800991 │ -0.750275 │ -0.725823 │\n",
       "│ 9   │ -0.799452 │ -0.749646 │ -0.723579 │\n",
       "│ 10  │ -0.79976  │ -0.750067 │ -0.726143 │"
      ]
     },
     "execution_count": 101,
     "metadata": {},
     "output_type": "execute_result"
    }
   ],
   "source": [
    "select!(df, names(df), :t2 => v_update => :t3)"
   ]
  }
 ],
 "metadata": {
  "kernelspec": {
   "display_name": "Julia 1.5.2",
   "language": "julia",
   "name": "julia-1.5"
  },
  "language_info": {
   "file_extension": ".jl",
   "mimetype": "application/julia",
   "name": "julia",
   "version": "1.5.2"
  }
 },
 "nbformat": 4,
 "nbformat_minor": 4
}
