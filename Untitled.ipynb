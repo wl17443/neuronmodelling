{
 "cells": [
  {
   "cell_type": "code",
   "execution_count": 2,
   "metadata": {},
   "outputs": [],
   "source": [
    "using DataFrames\n",
    "using Distributions"
   ]
  },
  {
   "cell_type": "code",
   "execution_count": 88,
   "metadata": {},
   "outputs": [
    {
     "data": {
      "text/plain": [
       "SynapseParameters(2, 3, 0.05, 0.1, 0.06, 0.25, 3)"
      ]
     },
     "execution_count": 88,
     "metadata": {},
     "output_type": "execute_result"
    }
   ],
   "source": [
    "N = 10\n",
    "Vᵣ = -0.8\n",
    "Eₗ = -0.7\n",
    "Vₜ = -0.4\n",
    "τ = 0.002\n",
    "dt = 0.001\n",
    "z = Normal(0, 1e-3)\n",
    "fps = (3, 7)\n",
    "\n",
    "struct SynapseParameters\n",
    "    n_exc\n",
    "    n_inh\n",
    "    w_exc\n",
    "    w_inh\n",
    "    w_exc_fp\n",
    "    w_inh_fp\n",
    "    fp_width\n",
    "end\n",
    "\n",
    "synpar = SynapseParameters(2, 3, 0.05, 0.10, 0.06, 0.25, 3)"
   ]
  },
  {
   "cell_type": "code",
   "execution_count": 4,
   "metadata": {},
   "outputs": [
    {
     "data": {
      "text/plain": [
       "v_update (generic function with 1 method)"
      ]
     },
     "execution_count": 4,
     "metadata": {},
     "output_type": "execute_result"
    }
   ],
   "source": [
    "function v_update(v)\n",
    "    v += -(v .- Eₗ) ./ τ .* dt .+ rand(z, length(v))\n",
    "    return v\n",
    "end"
   ]
  },
  {
   "cell_type": "code",
   "execution_count": 91,
   "metadata": {},
   "outputs": [
    {
     "data": {
      "text/plain": [
       "10×10 Array{Float64,2}:\n",
       " 0.0   0.05  0.05  0.1   0.1   0.1   0.1   0.1   0.05  0.05\n",
       " 0.05  0.0   0.05  0.05  0.1   0.1   0.1   0.1   0.1   0.05\n",
       " 0.06  0.06  0.0   0.06  0.06  0.25  0.25  0.25  0.25  0.25\n",
       " 0.1   0.05  0.05  0.0   0.05  0.05  0.1   0.1   0.1   0.1\n",
       " 0.1   0.1   0.05  0.05  0.0   0.05  0.05  0.1   0.1   0.1\n",
       " 0.1   0.1   0.1   0.05  0.05  0.0   0.05  0.05  0.1   0.1\n",
       " 0.25  0.25  0.25  0.25  0.06  0.06  0.0   0.06  0.06  0.25\n",
       " 0.1   0.1   0.1   0.1   0.1   0.05  0.05  0.0   0.05  0.05\n",
       " 0.05  0.1   0.1   0.1   0.1   0.1   0.05  0.05  0.0   0.05\n",
       " 0.05  0.05  0.1   0.1   0.1   0.1   0.1   0.05  0.05  0.0"
      ]
     },
     "execution_count": 91,
     "metadata": {},
     "output_type": "execute_result"
    }
   ],
   "source": [
    "function make_connectivity_matrix(sp::SynapseParameters)\n",
    "    cm = zeros(N,N)\n",
    "    for i in 1:N\n",
    "        for k in 1:N\n",
    "            dist = abs(i - k)\n",
    "            cm[i, k] = min(N - dist, dist)\n",
    "        end\n",
    "    end\n",
    "    cm[1 .<= cm .<= sp.n_exc] .= sp.w_exc\n",
    "    cm[cm .> sp.n_exc] .= sp.w_inh\n",
    "    \n",
    "    if length(fps) > 0\n",
    "        for i in fps\n",
    "            x = cm[i, :]\n",
    "            x[x .== sp.w_exc] .= sp.w_exc_fp\n",
    "            x[x .== sp.w_inh] .= sp.w_inh_fp\n",
    "            cm[i, :] = x\n",
    "        end\n",
    "    end\n",
    "    cm\n",
    "end\n",
    "\n",
    "make_connectivity_matrix(synpar)"
   ]
  },
  {
   "cell_type": "code",
   "execution_count": 5,
   "metadata": {},
   "outputs": [
    {
     "data": {
      "text/plain": [
       "10-element Array{Float64,1}:\n",
       " -0.7499709252409773\n",
       " -0.7508482242953547\n",
       " -0.750202523515183\n",
       " -0.7508468868486771\n",
       " -0.7499839097963611\n",
       " -0.7511142318231638\n",
       " -0.749120670035118\n",
       " -0.7485672441489524\n",
       " -0.7491214382472035\n",
       " -0.7507514486616294"
      ]
     },
     "execution_count": 5,
     "metadata": {},
     "output_type": "execute_result"
    }
   ],
   "source": [
    "df = DataFrame(t1 = zeros(N)) .+ Vᵣ .+ rand(z, N)\n",
    "df.t2 = v_update(df.t1)"
   ]
  },
  {
   "cell_type": "code",
   "execution_count": 6,
   "metadata": {},
   "outputs": [
    {
     "data": {
      "text/html": [
       "<table class=\"data-frame\"><thead><tr><th></th><th>t1</th><th>t2</th><th>t3</th></tr><tr><th></th><th>Float64</th><th>Float64</th><th>Float64</th></tr></thead><tbody><p>10 rows × 3 columns</p><tr><th>1</th><td>-0.800964</td><td>-0.749971</td><td>-0.723726</td></tr><tr><th>2</th><td>-0.800813</td><td>-0.750848</td><td>-0.723743</td></tr><tr><th>3</th><td>-0.800798</td><td>-0.750203</td><td>-0.724977</td></tr><tr><th>4</th><td>-0.801387</td><td>-0.750847</td><td>-0.724532</td></tr><tr><th>5</th><td>-0.800548</td><td>-0.749984</td><td>-0.725172</td></tr><tr><th>6</th><td>-0.80082</td><td>-0.751114</td><td>-0.724486</td></tr><tr><th>7</th><td>-0.799223</td><td>-0.749121</td><td>-0.724587</td></tr><tr><th>8</th><td>-0.798751</td><td>-0.748567</td><td>-0.724071</td></tr><tr><th>9</th><td>-0.797373</td><td>-0.749121</td><td>-0.725301</td></tr><tr><th>10</th><td>-0.79894</td><td>-0.750751</td><td>-0.725402</td></tr></tbody></table>"
      ],
      "text/latex": [
       "\\begin{tabular}{r|ccc}\n",
       "\t& t1 & t2 & t3\\\\\n",
       "\t\\hline\n",
       "\t& Float64 & Float64 & Float64\\\\\n",
       "\t\\hline\n",
       "\t1 & -0.800964 & -0.749971 & -0.723726 \\\\\n",
       "\t2 & -0.800813 & -0.750848 & -0.723743 \\\\\n",
       "\t3 & -0.800798 & -0.750203 & -0.724977 \\\\\n",
       "\t4 & -0.801387 & -0.750847 & -0.724532 \\\\\n",
       "\t5 & -0.800548 & -0.749984 & -0.725172 \\\\\n",
       "\t6 & -0.80082 & -0.751114 & -0.724486 \\\\\n",
       "\t7 & -0.799223 & -0.749121 & -0.724587 \\\\\n",
       "\t8 & -0.798751 & -0.748567 & -0.724071 \\\\\n",
       "\t9 & -0.797373 & -0.749121 & -0.725301 \\\\\n",
       "\t10 & -0.79894 & -0.750751 & -0.725402 \\\\\n",
       "\\end{tabular}\n"
      ],
      "text/plain": [
       "10×3 DataFrame\n",
       "│ Row │ t1        │ t2        │ t3        │\n",
       "│     │ \u001b[90mFloat64\u001b[39m   │ \u001b[90mFloat64\u001b[39m   │ \u001b[90mFloat64\u001b[39m   │\n",
       "├─────┼───────────┼───────────┼───────────┤\n",
       "│ 1   │ -0.800964 │ -0.749971 │ -0.723726 │\n",
       "│ 2   │ -0.800813 │ -0.750848 │ -0.723743 │\n",
       "│ 3   │ -0.800798 │ -0.750203 │ -0.724977 │\n",
       "│ 4   │ -0.801387 │ -0.750847 │ -0.724532 │\n",
       "│ 5   │ -0.800548 │ -0.749984 │ -0.725172 │\n",
       "│ 6   │ -0.80082  │ -0.751114 │ -0.724486 │\n",
       "│ 7   │ -0.799223 │ -0.749121 │ -0.724587 │\n",
       "│ 8   │ -0.798751 │ -0.748567 │ -0.724071 │\n",
       "│ 9   │ -0.797373 │ -0.749121 │ -0.725301 │\n",
       "│ 10  │ -0.79894  │ -0.750751 │ -0.725402 │"
      ]
     },
     "execution_count": 6,
     "metadata": {},
     "output_type": "execute_result"
    }
   ],
   "source": [
    "select!(df, names(df), :t2 => v_update => :t3)"
   ]
  },
  {
   "cell_type": "code",
   "execution_count": null,
   "metadata": {},
   "outputs": [],
   "source": []
  }
 ],
 "metadata": {
  "kernelspec": {
   "display_name": "Julia 1.5.2",
   "language": "julia",
   "name": "julia-1.5"
  },
  "language_info": {
   "file_extension": ".jl",
   "mimetype": "application/julia",
   "name": "julia",
   "version": "1.5.2"
  }
 },
 "nbformat": 4,
 "nbformat_minor": 4
}
