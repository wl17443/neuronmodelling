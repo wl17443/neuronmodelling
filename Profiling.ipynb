{
 "cells": [
  {
   "cell_type": "code",
   "execution_count": 1,
   "metadata": {},
   "outputs": [
    {
     "name": "stderr",
     "output_type": "stream",
     "text": [
      "Gtk-Message: 22:13:10.036: Failed to load module \"canberra-gtk-module\"\n"
     ]
    }
   ],
   "source": [
    "# using Distributions\n",
    "# using Plots\n",
    "using ProfileView"
   ]
  },
  {
   "cell_type": "code",
   "execution_count": 2,
   "metadata": {
    "scrolled": false
   },
   "outputs": [
    {
     "data": {
      "text/plain": [
       "SynapseParameters(5, 7, 0.05, -0.1, 0.06, -0.25, 3)"
      ]
     },
     "execution_count": 2,
     "metadata": {},
     "output_type": "execute_result"
    }
   ],
   "source": [
    "const ms = 1e-3\n",
    "const mV = 1e-3\n",
    "const nF = 1e-9\n",
    "\n",
    "\n",
    "const fps = (3, 7)\n",
    "const dt = 1e-3\n",
    "\n",
    "struct NeuronParameters\n",
    "    N::Int64\n",
    "    Vₜ::Float64\n",
    "    Vᵣ::Float64\n",
    "    Cₘ::Float64\n",
    "    Eᵢ::Float64\n",
    "    Eₑ::Float64\n",
    "    Eₘ::Float64\n",
    "    Eₗ::Float64\n",
    "    τᵣ::Float64\n",
    "    τₛ::Float64\n",
    "    τₘ::Float64\n",
    "    kₛ::Float64\n",
    "end\n",
    "\n",
    "struct SynapseParameters\n",
    "    n_exc::Int64\n",
    "    n_inh::Int64\n",
    "    w_exc::Float64\n",
    "    w_inh::Float64\n",
    "    w_exc_fp::Float64\n",
    "    w_inh_fp::Float64\n",
    "    fp_width::Int64\n",
    "end\n",
    "\n",
    "const np = NeuronParameters(256, -48. *mV, -80. *mV, 1. *nF, -70. *mV, 0., -70. *mV, -70. *mV, 2.  *ms, 5. *ms, 5. *ms, 1/(5*ms*exp(-1.)))\n",
    "const sp = SynapseParameters(5, 7, 0.05, -0.10, 0.06, -0.25, 3)"
   ]
  },
  {
   "cell_type": "code",
   "execution_count": 123,
   "metadata": {},
   "outputs": [
    {
     "data": {
      "text/plain": [
       "dv (generic function with 1 method)"
      ]
     },
     "execution_count": 123,
     "metadata": {},
     "output_type": "execute_result"
    }
   ],
   "source": [
    "function make_connectivity_matrix(sp::SynapseParameters, np::NeuronParameters)\n",
    "    cm = zeros(Float64, np.N,np.N)\n",
    "    for i in 1:np.N\n",
    "        for k in 1:np.N\n",
    "            dist = abs(i - k)\n",
    "            cm[i, k] = min(np.N - dist, dist)\n",
    "        end\n",
    "    end\n",
    "    cm[1 .<= cm .<= sp.n_exc] .= sp.w_exc\n",
    "    cm[sp.n_exc .< cm .<= sp.n_exc+sp.n_inh] .= sp.w_inh\n",
    "    cm[cm .> sp.n_exc+sp.n_inh] .= 0.\n",
    "    \n",
    "    if length(fps) > 0\n",
    "        for i in fps\n",
    "            x = cm[i, :]\n",
    "            x[x .== sp.w_exc] .= sp.w_exc_fp\n",
    "            x[x .== sp.w_inh] .= sp.w_inh_fp\n",
    "            cm[i, :] = x\n",
    "        end\n",
    "    end\n",
    "    #  cm[cm .> 0] .*= (1 - np.Eₑ) # Not needed np.Eₑ == 1\n",
    "    \n",
    "    cm .*= np.kₛ .* 1e-6\n",
    "    cm[cm .< 0] .*= -(1 - np.Eᵢ)\n",
    "\n",
    "\n",
    "    return cm\n",
    "end\n",
    "\n",
    "function dv(v, sd)\n",
    "\n",
    "    I = (cm .* sd .* exp.(-sd ./ np.τₛ)) * v\n",
    "    δv = (-np.Cₘ / np.τₘ .* (v .- np.Eₗ) .- I) ./ np.Cₘ .* dt #.+ rand(Normal(0, 0), np.N)\n",
    "    \n",
    "    \n",
    "    v + δv\n",
    "end"
   ]
  },
  {
   "cell_type": "code",
   "execution_count": 155,
   "metadata": {},
   "outputs": [],
   "source": [
    "function step(potentials, spike_delays, t)\n",
    "    \n",
    "    # This is to make time delay, not sure it is useful\n",
    "    # It should work as in the python code though\n",
    "    delayed_delays = deepcopy(spike_delays)\n",
    "    delayed_delays[spike_delays .<= 2*ms] .= 2 \n",
    "\n",
    "    \n",
    "    to_depolarize = potentials[:, t] .> np.Vₜ\n",
    "    to_hyperpolarize = potentials[:, t] .== 0\n",
    "    \n",
    "    potentials[:, t+1] = dv(potentials[:, t], delayed_delays) \n",
    "    tmp = potentials[:, t+1]\n",
    "    tmp[to_depolarize] .= 0.0\n",
    "    tmp[to_hyperpolarize] .= np.Vᵣ\n",
    "    potentials[:, t+1] = tmp\n",
    "    \n",
    "    spike_delays .+= dt\n",
    "    spike_delays[to_depolarize] .= 0.0\n",
    "\n",
    "\n",
    "end\n",
    "\n",
    "function simulate(time)\n",
    "    pot = zeros(Float64, np.N, time) \n",
    "    pot[:, 1] .+= np.Vᵣ\n",
    "    spiked = zeros(Float64, np.N) .+ 2.\n",
    "    spiked[3] = 0.0\n",
    "    for t in 1:time-1\n",
    "        step(pot, spiked, t)\n",
    "    end\n",
    "    \n",
    "    pot\n",
    "end\n",
    "\n",
    "\n",
    "\n",
    "cm = make_connectivity_matrix(sp, np);"
   ]
  },
  {
   "cell_type": "code",
   "execution_count": 96,
   "metadata": {},
   "outputs": [
    {
     "data": {
      "text/plain": [
       "3×3 Array{Float64,2}:\n",
       " 1.0  1.0  0.0\n",
       " 1.0  1.0  0.0\n",
       " 1.0  1.0  0.0"
      ]
     },
     "execution_count": 96,
     "metadata": {},
     "output_type": "execute_result"
    }
   ],
   "source": [
    "a = zeros(3,3)\n",
    "a[1:3, 1:2] .= 1\n",
    "a[3, :][a[3, :] .== 1] .= 4\n",
    "a"
   ]
  },
  {
   "cell_type": "code",
   "execution_count": 97,
   "metadata": {},
   "outputs": [
    {
     "data": {
      "text/plain": [
       "divergence (generic function with 1 method)"
      ]
     },
     "execution_count": 97,
     "metadata": {},
     "output_type": "execute_result"
    }
   ],
   "source": [
    "function normal_divergence(n1, n2)::Float64\n",
    "    log(n2.σ/n1.σ) + (n1.σ^2 + (n1.μ - n2.μ)^2) / (2*n2.σ^2) - 0.5\n",
    "end\n",
    "\n",
    "function divergence(pot)\n",
    "    spikes = pot .== 0\n",
    "    spikes = broadcast(*, spikes, [1:1:np.N;])\n",
    "    slice_1 = spikes[:, 1:3000]\n",
    "    slice_1 = reshape(slice_1, :)\n",
    "    slice_1 = slice_1[slice_1 .> 0]\n",
    "\n",
    "    slice_2 = spikes[:, 7000:end]\n",
    "    slice_2 = reshape(slice_2, :)\n",
    "    slice_2 = slice_2[slice_2 .> 0]\n",
    "    \n",
    "    N₁ = fit(Normal, slice_1)\n",
    "    N₂ = fit(Normal, slice_2)\n",
    "    @show N₁\n",
    "    @show N₂\n",
    "    normal_divergence(N₁, N₂)\n",
    "end"
   ]
  },
  {
   "cell_type": "code",
   "execution_count": 100,
   "metadata": {
    "scrolled": true
   },
   "outputs": [
    {
     "data": {
      "text/plain": [
       "256×5 Array{Float64,2}:\n",
       " -0.08  -0.078  -0.0764  -0.07512  -0.074096\n",
       " -0.08  -0.078  -0.0764  -0.07512  -0.074096\n",
       " -0.08  -0.078  -0.0764  -0.07512   0.21806\n",
       " -0.08  -0.078  -0.0764  -0.07512  -0.074096\n",
       " -0.08  -0.078  -0.0764  -0.07512  -0.074096\n",
       " -0.08  -0.078  -0.0764  -0.07512  -0.074096\n",
       " -0.08  -0.078  -0.0764  -0.07512  -0.074096\n",
       " -0.08  -0.078  -0.0764  -0.07512  -0.074096\n",
       " -0.08  -0.078  -0.0764  -0.07512  -0.074096\n",
       " -0.08  -0.078  -0.0764  -0.07512  -0.074096\n",
       " -0.08  -0.078  -0.0764  -0.07512  -0.074096\n",
       " -0.08  -0.078  -0.0764  -0.07512  -0.074096\n",
       " -0.08  -0.078  -0.0764  -0.07512  -0.074096\n",
       "  ⋮                                \n",
       " -0.08  -0.078  -0.0764  -0.07512  -0.074096\n",
       " -0.08  -0.078  -0.0764  -0.07512  -0.074096\n",
       " -0.08  -0.078  -0.0764  -0.07512  -0.074096\n",
       " -0.08  -0.078  -0.0764  -0.07512  -0.074096\n",
       " -0.08  -0.078  -0.0764  -0.07512  -0.074096\n",
       " -0.08  -0.078  -0.0764  -0.07512  -0.074096\n",
       " -0.08  -0.078  -0.0764  -0.07512  -0.074096\n",
       " -0.08  -0.078  -0.0764  -0.07512  -0.074096\n",
       " -0.08  -0.078  -0.0764  -0.07512  -0.074096\n",
       " -0.08  -0.078  -0.0764  -0.07512  -0.074096\n",
       " -0.08  -0.078  -0.0764  -0.07512  -0.074096\n",
       " -0.08  -0.078  -0.0764  -0.07512  -0.074096"
      ]
     },
     "execution_count": 100,
     "metadata": {},
     "output_type": "execute_result"
    }
   ],
   "source": [
    "simulate(5)"
   ]
  },
  {
   "cell_type": "code",
   "execution_count": 144,
   "metadata": {},
   "outputs": [],
   "source": [
    "v = zeros(256, 2) .- np.Vᵣ\n",
    "sd = zeros(256) .+ 2.0;"
   ]
  },
  {
   "cell_type": "code",
   "execution_count": 165,
   "metadata": {},
   "outputs": [],
   "source": [
    "@profview step(v, sd, 1);"
   ]
  },
  {
   "cell_type": "code",
   "execution_count": 142,
   "metadata": {},
   "outputs": [
    {
     "data": {
      "text/plain": [
       "180000"
      ]
     },
     "execution_count": 142,
     "metadata": {},
     "output_type": "execute_result"
    }
   ],
   "source": [
    "18 * 10000"
   ]
  },
  {
   "cell_type": "code",
   "execution_count": 107,
   "metadata": {},
   "outputs": [
    {
     "name": "stdout",
     "output_type": "stream",
     "text": [
      "  9.113163 seconds (399.45 k allocations: 5.220 GiB, 1.69% gc time)\n"
     ]
    }
   ],
   "source": [
    "@time pot=simulate(10000);"
   ]
  },
  {
   "cell_type": "code",
   "execution_count": 82,
   "metadata": {
    "collapsed": true
   },
   "outputs": [
    {
     "name": "stdout",
     "output_type": "stream",
     "text": [
      "Variables\n",
      "  #self#\u001b[36m::Core.Compiler.Const(simulate, false)\u001b[39m\n",
      "  time\u001b[36m::Int64\u001b[39m\n",
      "  pot\u001b[36m::Array{Float64,2}\u001b[39m\n",
      "  spiked\u001b[36m::Array{Float64,1}\u001b[39m\n",
      "  @_5\u001b[33m\u001b[1m::Union{Nothing, Tuple{Int64,Int64}}\u001b[22m\u001b[39m\n",
      "  t\u001b[36m::Int64\u001b[39m\n",
      "\n",
      "Body\u001b[36m::Array{Float64,2}\u001b[39m\n",
      "\u001b[90m1 ─\u001b[39m %1  = Base.getproperty(Main.np, :N)\u001b[36m::Core.Compiler.Const(256, false)\u001b[39m\n",
      "\u001b[90m│  \u001b[39m       (pot = Main.zeros(Main.Float64, %1, time))\n",
      "\u001b[90m│  \u001b[39m %3  = Base.dotview(pot, Main.:(:), 1)\u001b[36m::Core.Compiler.PartialStruct(SubArray{Float64,1,Array{Float64,2},Tuple{Base.Slice{Base.OneTo{Int64}},Int64},true}, Any[Array{Float64,2}, Core.Compiler.PartialStruct(Tuple{Base.Slice{Base.OneTo{Int64}},Int64}, Any[Base.Slice{Base.OneTo{Int64}}, Core.Compiler.Const(1, false)]), Int64, Core.Compiler.Const(1, false)])\u001b[39m\n",
      "\u001b[90m│  \u001b[39m %4  = Base.getindex(pot, Main.:(:), 1)\u001b[36m::Array{Float64,1}\u001b[39m\n",
      "\u001b[90m│  \u001b[39m %5  = Base.getproperty(Main.np, :Vᵣ)\u001b[36m::Core.Compiler.Const(-0.08, false)\u001b[39m\n",
      "\u001b[90m│  \u001b[39m %6  = Base.broadcasted(Main.:+, %4, %5)\u001b[36m::Core.Compiler.PartialStruct(Base.Broadcast.Broadcasted{Base.Broadcast.DefaultArrayStyle{1},Nothing,typeof(+),Tuple{Array{Float64,1},Float64}}, Any[Core.Compiler.Const(+, false), Core.Compiler.PartialStruct(Tuple{Array{Float64,1},Float64}, Any[Array{Float64,1}, Core.Compiler.Const(-0.08, false)]), Core.Compiler.Const(nothing, false)])\u001b[39m\n",
      "\u001b[90m│  \u001b[39m       Base.materialize!(%3, %6)\n",
      "\u001b[90m│  \u001b[39m %8  = Base.getproperty(Main.np, :N)\u001b[36m::Core.Compiler.Const(256, false)\u001b[39m\n",
      "\u001b[90m│  \u001b[39m %9  = Main.zeros(Main.Float64, %8)\u001b[36m::Array{Float64,1}\u001b[39m\n",
      "\u001b[90m│  \u001b[39m %10 = Base.broadcasted(Main.:+, %9, 2.0)\u001b[36m::Core.Compiler.PartialStruct(Base.Broadcast.Broadcasted{Base.Broadcast.DefaultArrayStyle{1},Nothing,typeof(+),Tuple{Array{Float64,1},Float64}}, Any[Core.Compiler.Const(+, false), Core.Compiler.PartialStruct(Tuple{Array{Float64,1},Float64}, Any[Array{Float64,1}, Core.Compiler.Const(2.0, false)]), Core.Compiler.Const(nothing, false)])\u001b[39m\n",
      "\u001b[90m│  \u001b[39m       (spiked = Base.materialize(%10))\n",
      "\u001b[90m│  \u001b[39m %12 = spiked\u001b[36m::Array{Float64,1}\u001b[39m\n",
      "\u001b[90m│  \u001b[39m %13 = (3:5)\u001b[36m::Core.Compiler.Const(3:5, false)\u001b[39m\n",
      "\u001b[90m│  \u001b[39m %14 = Base.dotview(%12, %13)\u001b[36m::Core.Compiler.PartialStruct(SubArray{Float64,1,Array{Float64,1},Tuple{UnitRange{Int64}},true}, Any[Array{Float64,1}, Core.Compiler.Const((3:5,), false), Core.Compiler.Const(2, false), Core.Compiler.Const(1, false)])\u001b[39m\n",
      "\u001b[90m│  \u001b[39m %15 = Base.broadcasted(Base.identity, 0.02)\u001b[36m::Core.Compiler.Const(Base.Broadcast.Broadcasted(identity, (0.02,)), false)\u001b[39m\n",
      "\u001b[90m│  \u001b[39m       Base.materialize!(%14, %15)\n",
      "\u001b[90m│  \u001b[39m %17 = (time - 1)\u001b[36m::Int64\u001b[39m\n",
      "\u001b[90m│  \u001b[39m %18 = (1:%17)\u001b[36m::Core.Compiler.PartialStruct(UnitRange{Int64}, Any[Core.Compiler.Const(1, false), Int64])\u001b[39m\n",
      "\u001b[90m│  \u001b[39m       (@_5 = Base.iterate(%18))\n",
      "\u001b[90m│  \u001b[39m %20 = (@_5 === nothing)\u001b[36m::Bool\u001b[39m\n",
      "\u001b[90m│  \u001b[39m %21 = Base.not_int(%20)\u001b[36m::Bool\u001b[39m\n",
      "\u001b[90m└──\u001b[39m       goto #4 if not %21\n",
      "\u001b[90m2 ┄\u001b[39m %23 = @_5::Tuple{Int64,Int64}\u001b[36m::Tuple{Int64,Int64}\u001b[39m\n",
      "\u001b[90m│  \u001b[39m       (t = Core.getfield(%23, 1))\n",
      "\u001b[90m│  \u001b[39m %25 = Core.getfield(%23, 2)\u001b[36m::Int64\u001b[39m\n",
      "\u001b[90m│  \u001b[39m       Main.step(pot, spiked, t)\n",
      "\u001b[90m│  \u001b[39m       (@_5 = Base.iterate(%18, %25))\n",
      "\u001b[90m│  \u001b[39m %28 = (@_5 === nothing)\u001b[36m::Bool\u001b[39m\n",
      "\u001b[90m│  \u001b[39m %29 = Base.not_int(%28)\u001b[36m::Bool\u001b[39m\n",
      "\u001b[90m└──\u001b[39m       goto #4 if not %29\n",
      "\u001b[90m3 ─\u001b[39m       goto #2\n",
      "\u001b[90m4 ┄\u001b[39m       return pot\n"
     ]
    }
   ],
   "source": [
    "@code_warntype  simulate(100)"
   ]
  }
 ],
 "metadata": {
  "kernelspec": {
   "display_name": "Julia 1.5.2",
   "language": "julia",
   "name": "julia-1.5"
  },
  "language_info": {
   "file_extension": ".jl",
   "mimetype": "application/julia",
   "name": "julia",
   "version": "1.5.2"
  }
 },
 "nbformat": 4,
 "nbformat_minor": 4
}
