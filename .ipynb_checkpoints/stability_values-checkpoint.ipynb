{
 "cells": [
  {
   "cell_type": "code",
   "execution_count": 16,
   "metadata": {},
   "outputs": [
    {
     "data": {
      "text/plain": [
       "check_idx (generic function with 2 methods)"
      ]
     },
     "execution_count": 16,
     "metadata": {},
     "output_type": "execute_result"
    }
   ],
   "source": [
    "using Printf\n",
    "include(\"ring_attractor.jl\");\n",
    "include(\"stats.jl\");"
   ]
  },
  {
   "cell_type": "markdown",
   "metadata": {},
   "source": [
    "## Testing the metric"
   ]
  },
  {
   "cell_type": "code",
   "execution_count": 55,
   "metadata": {
    "scrolled": true
   },
   "outputs": [
    {
     "data": {
      "text/plain": [
       "check_stability (generic function with 1 method)"
      ]
     },
     "execution_count": 55,
     "metadata": {},
     "output_type": "execute_result"
    }
   ],
   "source": [
    "function check_measure(par,sim)\n",
    "    pot = simulate(par, sim);\n",
    "    return sliding_filter(pot, sim)\n",
    "end\n",
    "\n",
    "function plot_measure(fp, par)\n",
    "    sim_=SimulationParameters(64, 10000, 5e-4, fp, 0.05, -0.10, 0.05, -0.25)\n",
    "    pot = simulate(par, sim_)\n",
    "    heatmap(pot, title=sliding_filter(pot, sim_))\n",
    "end\n",
    "\n",
    "function check_stability(fp, par)\n",
    "    sim_=SimulationParameters(64, 10000, 5e-4, fp, 0.05, -0.10, 0.05, -0.25)\n",
    "    means, vars = [], []\n",
    "    for _ in 0:500\n",
    "       m, v = check_measure(par,sim_)\n",
    "       push!(means, m)\n",
    "       push!(vars, v)\n",
    "    end\n",
    "    Qmeans = quantile(means, [.1, .25, .5, .75, .9])\n",
    "    Qvars = quantile(vars, [.1, .25, .5, .75, .9])\n",
    "    @printf(\n",
    "\"\n",
    "Values for 500 simulations, with fixed points %s    \n",
    "\n",
    "Measures of means of vector norm:\n",
    "    Mean:    %.6f\n",
    "    Var:     %.6f\n",
    "        \n",
    "    Min:     %.6f\n",
    "    Max:     %.6f\n",
    "    \n",
    "    Q.10:    %.6f\n",
    "    Q.25:    %.6f\n",
    "    Median:  %.6f\n",
    "    Q.75:    %.6f\n",
    "    Q.90:    %.6f\n",
    "    \n",
    "Measures of variances of vector norm:\n",
    "    Mean:    %.6f\n",
    "    Var:     %.6f\n",
    "        \n",
    "    Min:     %.6f\n",
    "    Max:     %.6f\n",
    "    \n",
    "    Q.10:    %.6f\n",
    "    Q.25:    %.6f\n",
    "    Median:  %.6f\n",
    "    Q.75:    %.6f\n",
    "    Q.90:    %.6f\",\n",
    "    fp,\n",
    "    mean(means), var(means), minimum(means), maximum(means), Qmeans[1], Qmeans[2], Qmeans[3], Qmeans[4], Qmeans[5],\n",
    "    mean(vars), var(vars), minimum(vars), maximum(vars), Qvars[1], Qvars[2], Qvars[3], Qvars[4], Qvars[5])\n",
    "end\n"
   ]
  },
  {
   "cell_type": "code",
   "execution_count": 56,
   "metadata": {},
   "outputs": [
    {
     "name": "stdout",
     "output_type": "stream",
     "text": [
      "\n",
      "Values for 500 simulations, with fixed points (32,)    \n",
      "\n",
      "Measures of means of vector norm:\n",
      "    Mean:    0.137600\n",
      "    Var:     0.000860\n",
      "        \n",
      "    Min:     0.039551\n",
      "    Max:     0.223780\n",
      "    \n",
      "    Q.10:    0.102249\n",
      "    Q.25:    0.116801\n",
      "    Median:  0.135848\n",
      "    Q.75:    0.156118\n",
      "    Q.90:    0.178021\n",
      "    \n",
      "Measures of variances of vector norm:\n",
      "    Mean:    0.022261\n",
      "    Var:     0.000039\n",
      "        \n",
      "    Min:     0.007330\n",
      "    Max:     0.050261\n",
      "    \n",
      "    Q.10:    0.015538\n",
      "    Q.25:    0.018365\n",
      "    Median:  0.021542\n",
      "    Q.75:    0.025075\n",
      "    Q.90:    0.029158"
     ]
    }
   ],
   "source": [
    "check_stability((32,), par) # Checking values of stability "
   ]
  },
  {
   "cell_type": "code",
   "execution_count": 57,
   "metadata": {},
   "outputs": [
    {
     "name": "stdout",
     "output_type": "stream",
     "text": [
      "\n",
      "Values for 500 simulations, with fixed points (28, 36)    \n",
      "\n",
      "Measures of means of vector norm:\n",
      "    Mean:    0.148894\n",
      "    Var:     0.002332\n",
      "        \n",
      "    Min:     0.046435\n",
      "    Max:     0.285021\n",
      "    \n",
      "    Q.10:    0.092811\n",
      "    Q.25:    0.110087\n",
      "    Median:  0.138117\n",
      "    Q.75:    0.186879\n",
      "    Q.90:    0.216540\n",
      "    \n",
      "Measures of variances of vector norm:\n",
      "    Mean:    0.023109\n",
      "    Var:     0.000181\n",
      "        \n",
      "    Min:     0.004893\n",
      "    Max:     0.088075\n",
      "    \n",
      "    Q.10:    0.009513\n",
      "    Q.25:    0.011848\n",
      "    Median:  0.019131\n",
      "    Q.75:    0.033352\n",
      "    Q.90:    0.039666"
     ]
    }
   ],
   "source": [
    "check_stability((28,36), par) # Checking values of stability "
   ]
  },
  {
   "cell_type": "code",
   "execution_count": 58,
   "metadata": {},
   "outputs": [
    {
     "name": "stdout",
     "output_type": "stream",
     "text": [
      "\n",
      "Values for 500 simulations, with fixed points (24, 40)    \n",
      "\n",
      "Measures of means of vector norm:\n",
      "    Mean:    0.157081\n",
      "    Var:     0.006303\n",
      "        \n",
      "    Min:     0.035380\n",
      "    Max:     0.336248\n",
      "    \n",
      "    Q.10:    0.067668\n",
      "    Q.25:    0.085073\n",
      "    Median:  0.133954\n",
      "    Q.75:    0.229520\n",
      "    Q.90:    0.266545\n",
      "    \n",
      "Measures of variances of vector norm:\n",
      "    Mean:    0.029503\n",
      "    Var:     0.000622\n",
      "        \n",
      "    Min:     0.002366\n",
      "    Max:     0.107917\n",
      "    \n",
      "    Q.10:    0.005280\n",
      "    Q.25:    0.006774\n",
      "    Median:  0.021380\n",
      "    Q.75:    0.050334\n",
      "    Q.90:    0.060489"
     ]
    }
   ],
   "source": [
    "check_stability((24,40), par) # Checking values of stability "
   ]
  },
  {
   "cell_type": "code",
   "execution_count": 59,
   "metadata": {},
   "outputs": [
    {
     "name": "stdout",
     "output_type": "stream",
     "text": [
      "\n",
      "Values for 500 simulations, with fixed points (20, 44)    \n",
      "\n",
      "Measures of means of vector norm:\n",
      "    Mean:    0.176794\n",
      "    Var:     0.013650\n",
      "        \n",
      "    Min:     0.019755\n",
      "    Max:     0.482742\n",
      "    \n",
      "    Q.10:    0.049480\n",
      "    Q.25:    0.063318\n",
      "    Median:  0.187219\n",
      "    Q.75:    0.280830\n",
      "    Q.90:    0.324744\n",
      "    \n",
      "Measures of variances of vector norm:\n",
      "    Mean:    0.044609\n",
      "    Var:     0.001854\n",
      "        \n",
      "    Min:     0.000373\n",
      "    Max:     0.180254\n",
      "    \n",
      "    Q.10:    0.002584\n",
      "    Q.25:    0.003206\n",
      "    Median:  0.049085\n",
      "    Q.75:    0.075730\n",
      "    Q.90:    0.100199"
     ]
    }
   ],
   "source": [
    "check_stability((20,44), par) # Checking values of stability "
   ]
  },
  {
   "cell_type": "code",
   "execution_count": 60,
   "metadata": {
    "scrolled": false
   },
   "outputs": [
    {
     "name": "stdout",
     "output_type": "stream",
     "text": [
      "\n",
      "Values for 500 simulations, with fixed points ()    \n",
      "\n",
      "Measures of means of vector norm:\n",
      "    Mean:    0.303534\n",
      "    Var:     0.029930\n",
      "        \n",
      "    Min:     0.025489\n",
      "    Max:     0.984954\n",
      "    \n",
      "    Q.10:    0.109758\n",
      "    Q.25:    0.177237\n",
      "    Median:  0.266243\n",
      "    Q.75:    0.411153\n",
      "    Q.90:    0.544513\n",
      "    \n",
      "Measures of variances of vector norm:\n",
      "    Mean:    0.130105\n",
      "    Var:     0.021378\n",
      "        \n",
      "    Min:     0.000468\n",
      "    Max:     1.148888\n",
      "    \n",
      "    Q.10:    0.013255\n",
      "    Q.25:    0.035044\n",
      "    Median:  0.072767\n",
      "    Q.75:    0.181406\n",
      "    Q.90:    0.313710"
     ]
    }
   ],
   "source": [
    "check_stability((), par) # Checking values of stability "
   ]
  }
 ],
 "metadata": {
  "kernelspec": {
   "display_name": "Julia 1.5.2",
   "language": "julia",
   "name": "julia-1.5"
  },
  "language_info": {
   "file_extension": ".jl",
   "mimetype": "application/julia",
   "name": "julia",
   "version": "1.5.1"
  }
 },
 "nbformat": 4,
 "nbformat_minor": 4
}
