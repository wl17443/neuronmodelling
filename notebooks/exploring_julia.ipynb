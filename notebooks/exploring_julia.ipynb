{
 "cells": [
  {
   "cell_type": "code",
   "execution_count": 1,
   "metadata": {},
   "outputs": [
    {
     "name": "stderr",
     "output_type": "stream",
     "text": [
      "Gtk-Message: 15:57:29.111: Failed to load module \"canberra-gtk-module\"\n"
     ]
    }
   ],
   "source": [
    "# using Distributions\n",
    "# using Plots\n",
    "using ProfileView"
   ]
  },
  {
   "cell_type": "code",
   "execution_count": 1,
   "metadata": {},
   "outputs": [
    {
     "data": {
      "text/plain": [
       "SynapseParameters(5, 7, 0.05, -0.1, 0.06, -0.25, 3)"
      ]
     },
     "execution_count": 1,
     "metadata": {},
     "output_type": "execute_result"
    }
   ],
   "source": [
    "ms = 1e-3\n",
    "mV = 1e-3\n",
    "nF = 1e-9\n",
    "\n",
    "# z = Normal(0, 1e-3)\n",
    "fps = (3, 7)\n",
    "dt = ms\n",
    "\n",
    "struct NeuronParameters\n",
    "    N::Int64\n",
    "    Vₜ\n",
    "    Vᵣ\n",
    "    Cₘ\n",
    "    Eᵢ\n",
    "    Eₑ\n",
    "    Eₘ\n",
    "    Eₗ\n",
    "    τᵣ\n",
    "    τₛ\n",
    "    τₘ\n",
    "    kₛ\n",
    "end\n",
    "\n",
    "struct SynapseParameters\n",
    "    n_exc\n",
    "    n_inh\n",
    "    w_exc\n",
    "    w_inh\n",
    "    w_exc_fp\n",
    "    w_inh_fp\n",
    "    fp_width\n",
    "end\n",
    "\n",
    "np = NeuronParameters(20, -48. *mV, -80. *mV, 1. *nF, -70. *mV, 0., -70. *mV, -70. *mV, 2.  *ms, 5. *ms, 5. *ms, 1/(5*ms*exp(-1.)))\n",
    "sp = SynapseParameters(5, 7, 0.05, -0.10, 0.06, -0.25, 3)"
   ]
  },
  {
   "cell_type": "code",
   "execution_count": 2,
   "metadata": {},
   "outputs": [
    {
     "data": {
      "text/plain": [
       "make_connectivity_matrix (generic function with 1 method)"
      ]
     },
     "execution_count": 2,
     "metadata": {},
     "output_type": "execute_result"
    }
   ],
   "source": [
    "function make_connectivity_matrix(sp::SynapseParameters, np::NeuronParameters)\n",
    "    cm = zeros(Float64, np.N,np.N)\n",
    "    for i in 1:np.N\n",
    "        for k in 1:np.N\n",
    "            dist = abs(i - k)\n",
    "            cm[i, k] = min(np.N - dist, dist)\n",
    "        end\n",
    "    end\n",
    "    cm[1 .<= cm .<= sp.n_exc] .= sp.w_exc\n",
    "    cm[cm .> sp.n_exc] .= sp.w_inh\n",
    "    \n",
    "    if length(fps) > 0\n",
    "        for i in fps\n",
    "            x = cm[i, :]\n",
    "            x[x .== sp.w_exc] .= sp.w_exc_fp\n",
    "            x[x .== sp.w_inh] .= sp.w_inh_fp\n",
    "            cm[i, :] = x\n",
    "        end\n",
    "    end\n",
    "    cm\n",
    "end"
   ]
  },
  {
   "cell_type": "code",
   "execution_count": 4,
   "metadata": {
    "scrolled": true
   },
   "outputs": [
    {
     "data": {
      "text/plain": [
       "dv (generic function with 1 method)"
      ]
     },
     "execution_count": 4,
     "metadata": {},
     "output_type": "execute_result"
    }
   ],
   "source": [
    "function dv(v, sd, cm)\n",
    "    Iᵢ = zeros(Float64, np.N)\n",
    "    Iₑ = zeros(Float64, np.N)\n",
    "\n",
    "    for i in 1:np.N\n",
    "        inh = Float32[]\n",
    "        exc = Float32[]\n",
    "\n",
    "        I_array = cm[:, i] .* sd .* np.kₛ .* exp.(-sd ./ np.τₛ) .* 1e-6\n",
    "        for I in I_array\n",
    "            if I < 0\n",
    "                push!(inh, -I.*(v[i] - np.Eᵢ))\n",
    "            else\n",
    "                push!(exc, I * (v[i] - np.Eₑ))\n",
    "            end\n",
    "        end\n",
    "        Iᵢ[i] = sum(inh)\n",
    "        Iₑ[i] = sum(exc)\n",
    "    end\n",
    "    @show sum(Iᵢ .+ Iₑ)\n",
    "    δv = (-np.Cₘ / np.τₘ .* (v .- np.Eₗ) .- Iᵢ .- Iₑ) ./ np.Cₘ .* dt # .+ rand(z, length(v))\n",
    "    \n",
    "    return δv+v\n",
    "end"
   ]
  },
  {
   "cell_type": "code",
   "execution_count": 5,
   "metadata": {},
   "outputs": [
    {
     "data": {
      "text/plain": [
       "step (generic function with 1 method)"
      ]
     },
     "execution_count": 5,
     "metadata": {},
     "output_type": "execute_result"
    }
   ],
   "source": [
    "function step(potentials, spike_delays, cm)\n",
    "    t = size(potentials, 2)\n",
    "    \n",
    "    to_depolarize = potentials[:, t] .> np.Vₜ\n",
    "    to_hyperpolarize = potentials[:, t] .== 0\n",
    "    \n",
    "    potentials = [potentials dv(potentials[:, t], spike_delays, cm)] # This looks inefficient\n",
    "    tmp = potentials[:, t+1]\n",
    "    tmp[to_depolarize] .= 0.0\n",
    "    tmp[to_hyperpolarize] .= np.Vᵣ\n",
    "    potentials[:, t+1] = tmp\n",
    "    \n",
    "    \n",
    "    \n",
    "    spike_delays .+= dt\n",
    "    spike_delays[to_depolarize] .= 0.0\n",
    "\n",
    "    potentials, spike_delays\n",
    "end"
   ]
  },
  {
   "cell_type": "code",
   "execution_count": 11,
   "metadata": {},
   "outputs": [
    {
     "data": {
      "text/plain": [
       "simulate (generic function with 1 method)"
      ]
     },
     "execution_count": 11,
     "metadata": {},
     "output_type": "execute_result"
    }
   ],
   "source": [
    "function simulate(time)\n",
    "    cm = make_connectivity_matrix(sp, np)\n",
    "    pot = zeros(Float64, np.N) .+ np.Vᵣ\n",
    "    spiked = zeros(Float64, np.N) .+ 2\n",
    "    spiked[1:3] .= 0.1\n",
    "    for t in 1:time\n",
    "        pot, spiked = step(pot, spiked, cm)\n",
    "    end\n",
    "    \n",
    "    pot\n",
    "end"
   ]
  },
  {
   "cell_type": "code",
   "execution_count": 12,
   "metadata": {},
   "outputs": [
    {
     "name": "stdout",
     "output_type": "stream",
     "text": [
      "sum(Iᵢ .+ Iₑ) = -1.888142465455519e-14\n",
      "sum(Iᵢ .+ Iₑ) = -1.4566320025833706e-14\n",
      "sum(Iᵢ .+ Iₑ) = -1.1351366912135672e-14\n",
      "sum(Iᵢ .+ Iₑ) = -8.926734829304997e-15\n",
      "sum(Iᵢ .+ Iₑ) = -7.076592686825989e-15\n"
     ]
    },
    {
     "data": {
      "text/plain": [
       "20×6 Array{Float64,2}:\n",
       " -0.08  -0.078  -0.0764  -0.07512  -0.074096  -0.0732768\n",
       " -0.08  -0.078  -0.0764  -0.07512  -0.074096  -0.0732768\n",
       " -0.08  -0.078  -0.0764  -0.07512  -0.074096  -0.0732768\n",
       " -0.08  -0.078  -0.0764  -0.07512  -0.074096  -0.0732768\n",
       " -0.08  -0.078  -0.0764  -0.07512  -0.074096  -0.0732768\n",
       " -0.08  -0.078  -0.0764  -0.07512  -0.074096  -0.0732768\n",
       " -0.08  -0.078  -0.0764  -0.07512  -0.074096  -0.0732768\n",
       " -0.08  -0.078  -0.0764  -0.07512  -0.074096  -0.0732768\n",
       " -0.08  -0.078  -0.0764  -0.07512  -0.074096  -0.0732768\n",
       " -0.08  -0.078  -0.0764  -0.07512  -0.074096  -0.0732768\n",
       " -0.08  -0.078  -0.0764  -0.07512  -0.074096  -0.0732768\n",
       " -0.08  -0.078  -0.0764  -0.07512  -0.074096  -0.0732768\n",
       " -0.08  -0.078  -0.0764  -0.07512  -0.074096  -0.0732768\n",
       " -0.08  -0.078  -0.0764  -0.07512  -0.074096  -0.0732768\n",
       " -0.08  -0.078  -0.0764  -0.07512  -0.074096  -0.0732768\n",
       " -0.08  -0.078  -0.0764  -0.07512  -0.074096  -0.0732768\n",
       " -0.08  -0.078  -0.0764  -0.07512  -0.074096  -0.0732768\n",
       " -0.08  -0.078  -0.0764  -0.07512  -0.074096  -0.0732768\n",
       " -0.08  -0.078  -0.0764  -0.07512  -0.074096  -0.0732768\n",
       " -0.08  -0.078  -0.0764  -0.07512  -0.074096  -0.0732768"
      ]
     },
     "execution_count": 12,
     "metadata": {},
     "output_type": "execute_result"
    }
   ],
   "source": [
    "simulate(5)"
   ]
  },
  {
   "cell_type": "code",
   "execution_count": 8,
   "metadata": {
    "collapsed": true
   },
   "outputs": [
    {
     "data": {
      "text/plain": [
       "Gtk.GtkWindowLeaf(name=\"\", parent, width-request=-1, height-request=-1, visible=TRUE, sensitive=TRUE, app-paintable=FALSE, can-focus=FALSE, has-focus=FALSE, is-focus=FALSE, focus-on-click=TRUE, can-default=FALSE, has-default=FALSE, receives-default=FALSE, composite-child=FALSE, style, events=0, no-show-all=FALSE, has-tooltip=FALSE, tooltip-markup=NULL, tooltip-text=NULL, window, opacity=1.000000, double-buffered, halign=GTK_ALIGN_FILL, valign=GTK_ALIGN_FILL, margin-left, margin-right, margin-start=0, margin-end=0, margin-top=0, margin-bottom=0, margin=0, hexpand=FALSE, vexpand=FALSE, hexpand-set=FALSE, vexpand-set=FALSE, expand=FALSE, scale-factor=1, border-width=0, resize-mode, child, type=GTK_WINDOW_TOPLEVEL, title=\"Profile\", role=NULL, resizable=TRUE, modal=FALSE, window-position=GTK_WIN_POS_NONE, default-width=800, default-height=600, destroy-with-parent=FALSE, hide-titlebar-when-maximized=FALSE, icon, icon-name=NULL, screen, type-hint=GDK_WINDOW_TYPE_HINT_NORMAL, skip-taskbar-hint=FALSE, skip-pager-hint=FALSE, urgency-hint=FALSE, accept-focus=TRUE, focus-on-map=TRUE, decorated=TRUE, deletable=TRUE, gravity=GDK_GRAVITY_NORTH_WEST, transient-for, attached-to, has-resize-grip, resize-grip-visible, application, is-active=TRUE, has-toplevel-focus=TRUE, startup-id, mnemonics-visible=FALSE, focus-visible=FALSE, is-maximized=FALSE)"
      ]
     },
     "execution_count": 8,
     "metadata": {},
     "output_type": "execute_result"
    },
    {
     "name": "stdout",
     "output_type": "stream",
     "text": [
      "./In[4], dv: line 14\n",
      "./In[4], dv: line 12\n",
      "./In[4], dv: line 9\n"
     ]
    }
   ],
   "source": [
    "@profview simulate(2000)"
   ]
  },
  {
   "cell_type": "code",
   "execution_count": 11,
   "metadata": {},
   "outputs": [
    {
     "name": "stdout",
     "output_type": "stream",
     "text": [
      "  0.653051 seconds (7.17 M allocations: 574.235 MiB, 7.51% gc time)\n"
     ]
    },
    {
     "data": {
      "text/plain": [
       "20×2001 Array{Float64,2}:\n",
       " -0.08  -0.078  -0.0753317  -0.0730996  …  -0.0623655  -0.0633253  -0.0620947\n",
       " -0.08  -0.078  -0.0753317  -0.0730996     -0.0589699  -0.0589401  -0.0566837\n",
       " -0.08  -0.078  -0.0753317  -0.0730996     -0.0563854  -0.0556558  -0.0525423\n",
       " -0.08  -0.078  -0.0739519  -0.0698905     -0.08       -0.0678515  -0.0558321\n",
       " -0.08  -0.078  -0.0725721  -0.0665808     -0.078      -0.0670171  -0.0537726\n",
       " -0.08  -0.078  -0.0711922  -0.0631705  …  -0.078      -0.0656373  -0.050413\n",
       " -0.08  -0.078  -0.0711922  -0.0631705     -0.078      -0.0659845  -0.0494228\n",
       " -0.08  -0.078  -0.0711922  -0.0631705     -0.078      -0.0656373  -0.048758\n",
       " -0.08  -0.078  -0.0729282  -0.0670272     -0.078      -0.0656373  -0.048758\n",
       " -0.08  -0.078  -0.0729282  -0.0670272     -0.078      -0.0656373  -0.050413\n",
       " -0.08  -0.078  -0.0729282  -0.0670272  …  -0.078      -0.0670171  -0.0537726\n",
       " -0.08  -0.078  -0.0711922  -0.0631705     -0.08       -0.0678515  -0.0558321\n",
       " -0.08  -0.078  -0.0711922  -0.0631705     -0.058208   -0.0577466  -0.0550587\n",
       " -0.08  -0.078  -0.0711922  -0.0631705     -0.060384   -0.0606297  -0.0586993\n",
       " -0.08  -0.078  -0.0725721  -0.0665808     -0.0623655  -0.0633253  -0.0620947\n",
       " -0.08  -0.078  -0.0739519  -0.0698905  …  -0.0641759  -0.0658567  -0.065269\n",
       " -0.08  -0.078  -0.0753317  -0.0730996     -0.0658355  -0.068244   -0.0682424\n",
       " -0.08  -0.078  -0.0753317  -0.0730996     -0.07       -0.07       -0.07\n",
       " -0.08  -0.078  -0.0753317  -0.0730996     -0.0658355  -0.068244   -0.0682424\n",
       " -0.08  -0.078  -0.0753317  -0.0730996     -0.0641759  -0.0658567  -0.065269"
      ]
     },
     "execution_count": 11,
     "metadata": {},
     "output_type": "execute_result"
    }
   ],
   "source": [
    "@time simulate(2000)"
   ]
  },
  {
   "cell_type": "code",
   "execution_count": 14,
   "metadata": {},
   "outputs": [
    {
     "ename": "LoadError",
     "evalue": "MethodError: no method matching simulate(::Int64, ::Bool)\nClosest candidates are:\n  simulate(::Any) at In[11]:1",
     "output_type": "error",
     "traceback": [
      "MethodError: no method matching simulate(::Int64, ::Bool)\nClosest candidates are:\n  simulate(::Any) at In[11]:1",
      "",
      "Stacktrace:",
      " [1] top-level scope at In[14]:1",
      " [2] execute_code(::String, ::String) at /home/ginko/.julia/packages/IJulia/rWZ9e/src/execute_request.jl:27",
      " [3] execute_request(::ZMQ.Socket, ::IJulia.Msg) at /home/ginko/.julia/packages/IJulia/rWZ9e/src/execute_request.jl:86",
      " [4] #invokelatest#1 at ./essentials.jl:710 [inlined]",
      " [5] invokelatest at ./essentials.jl:709 [inlined]",
      " [6] eventloop(::ZMQ.Socket) at /home/ginko/.julia/packages/IJulia/rWZ9e/src/eventloop.jl:8",
      " [7] (::IJulia.var\"#15#18\")() at ./task.jl:356"
     ]
    }
   ],
   "source": [
    "pots = simulate(100, true)\n",
    "heatmap(pots)"
   ]
  },
  {
   "cell_type": "code",
   "execution_count": 13,
   "metadata": {},
   "outputs": [
    {
     "ename": "LoadError",
     "evalue": "UndefVarError: pots not defined",
     "output_type": "error",
     "traceback": [
      "UndefVarError: pots not defined",
      "",
      "Stacktrace:",
      " [1] top-level scope at In[13]:1",
      " [2] execute_code(::String, ::String) at /home/ginko/.julia/packages/IJulia/rWZ9e/src/execute_request.jl:27",
      " [3] execute_request(::ZMQ.Socket, ::IJulia.Msg) at /home/ginko/.julia/packages/IJulia/rWZ9e/src/execute_request.jl:86",
      " [4] #invokelatest#1 at ./essentials.jl:710 [inlined]",
      " [5] invokelatest at ./essentials.jl:709 [inlined]",
      " [6] eventloop(::ZMQ.Socket) at /home/ginko/.julia/packages/IJulia/rWZ9e/src/eventloop.jl:8",
      " [7] (::IJulia.var\"#15#18\")() at ./task.jl:356"
     ]
    }
   ],
   "source": [
    "spikes = pots .== 0\n",
    "spikes = broadcast(*, spikes, [1:1:20;])\n",
    "slice = spikes[:, 1:30]\n",
    "\n",
    "slice = reshape(slice, :)\n",
    "slice = slice[slice .> 0]\n",
    "\n",
    "fit(Normal, slice)"
   ]
  },
  {
   "cell_type": "code",
   "execution_count": null,
   "metadata": {},
   "outputs": [],
   "source": []
  }
 ],
 "metadata": {
  "kernelspec": {
   "display_name": "Julia 1.5.2",
   "language": "julia",
   "name": "julia-1.5"
  },
  "language_info": {
   "file_extension": ".jl",
   "mimetype": "application/julia",
   "name": "julia",
   "version": "1.5.2"
  }
 },
 "nbformat": 4,
 "nbformat_minor": 4
}
